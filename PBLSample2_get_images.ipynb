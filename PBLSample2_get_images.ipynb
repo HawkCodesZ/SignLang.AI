{
 "cells": [
  {
   "cell_type": "code",
   "execution_count": 2,
   "id": "68a87580-64db-4af9-b42f-9920fb830dc4",
   "metadata": {},
   "outputs": [],
   "source": [
    "#run these code blocks one after the other in order\n",
    "#make sure you move your hand around across the screen and also rotate your hand a bit as you record each letter\n",
    "#this will be a temporary dataset collection.. might need you later too\n",
    "\n",
    "import os\n",
    "import cv2"
   ]
  },
  {
   "cell_type": "code",
   "execution_count": 3,
   "id": "a723d97e-c93f-4c04-92e1-5d8d33cfa413",
   "metadata": {},
   "outputs": [],
   "source": [
    "DATA_DIR = './data'\n",
    "if not os.path.exists(DATA_DIR):\n",
    "    os.makedirs(DATA_DIR)"
   ]
  },
  {
   "cell_type": "code",
   "execution_count": 4,
   "id": "5655a478-1aeb-4a8e-9af5-eb3d18868c7e",
   "metadata": {},
   "outputs": [],
   "source": [
    "number_of_classes = 26\n",
    "dataset_size = 100"
   ]
  },
  {
   "cell_type": "code",
   "execution_count": 9,
   "id": "ac882217-8354-483b-9d9f-995c6dcf540b",
   "metadata": {},
   "outputs": [],
   "source": [
    "labels_dict = {0: 'A', 1: 'B', 2: 'C',3: 'D',4: 'E',5: 'F',6: 'G',7: 'H',8: 'I',9: 'J',10: 'K',11: 'L',12: 'M',13: 'N',14: 'O',15: 'P',16: 'Q',17: 'R',18: 'S',19: 'T',20: 'U',21: 'V',22: 'W',23: 'X',24: 'Y',25: 'Z'}"
   ]
  },
  {
   "cell_type": "code",
   "execution_count": 20,
   "id": "0cc30f82-0cfd-473d-9fbb-65647a8e9c59",
   "metadata": {},
   "outputs": [
    {
     "name": "stdout",
     "output_type": "stream",
     "text": [
      "Collecting data for class0\n",
      "Collecting data for class1\n",
      "Collecting data for class2\n",
      "Collecting data for class3\n"
     ]
    },
    {
     "ename": "KeyboardInterrupt",
     "evalue": "",
     "output_type": "error",
     "traceback": [
      "\u001b[1;31m---------------------------------------------------------------------------\u001b[0m",
      "\u001b[1;31mKeyboardInterrupt\u001b[0m                         Traceback (most recent call last)",
      "Cell \u001b[1;32mIn[20], line 14\u001b[0m\n\u001b[0;32m     12\u001b[0m     cv2\u001b[38;5;241m.\u001b[39mputText(frame, \u001b[38;5;124mf\u001b[39m\u001b[38;5;124m\"\u001b[39m\u001b[38;5;124mCollecting data for \u001b[39m\u001b[38;5;132;01m{\u001b[39;00mlabels_dict[j]\u001b[38;5;132;01m}\u001b[39;00m\u001b[38;5;124m Ready? Press \u001b[39m\u001b[38;5;124m'\u001b[39m\u001b[38;5;124mq\u001b[39m\u001b[38;5;124m'\u001b[39m\u001b[38;5;124m\"\u001b[39m, position, cv2\u001b[38;5;241m.\u001b[39mFONT_HERSHEY_SIMPLEX, \u001b[38;5;241m1\u001b[39m, (\u001b[38;5;241m209\u001b[39m, \u001b[38;5;241m80\u001b[39m, \u001b[38;5;241m0\u001b[39m, \u001b[38;5;241m255\u001b[39m), \u001b[38;5;241m3\u001b[39m)\n\u001b[0;32m     13\u001b[0m     cv2\u001b[38;5;241m.\u001b[39mimshow(\u001b[38;5;124m'\u001b[39m\u001b[38;5;124mOpenCV-Feed\u001b[39m\u001b[38;5;124m'\u001b[39m, frame)\n\u001b[1;32m---> 14\u001b[0m     \u001b[38;5;28;01mif\u001b[39;00m \u001b[43mcv2\u001b[49m\u001b[38;5;241;43m.\u001b[39;49m\u001b[43mwaitKey\u001b[49m\u001b[43m(\u001b[49m\u001b[38;5;241;43m25\u001b[39;49m\u001b[43m)\u001b[49m \u001b[38;5;241m&\u001b[39m \u001b[38;5;241m0xFF\u001b[39m \u001b[38;5;241m==\u001b[39m \u001b[38;5;28mord\u001b[39m(\u001b[38;5;124m'\u001b[39m\u001b[38;5;124mq\u001b[39m\u001b[38;5;124m'\u001b[39m):\n\u001b[0;32m     15\u001b[0m         \u001b[38;5;28;01mbreak\u001b[39;00m\n\u001b[0;32m     17\u001b[0m counter \u001b[38;5;241m=\u001b[39m \u001b[38;5;241m0\u001b[39m\n",
      "\u001b[1;31mKeyboardInterrupt\u001b[0m: "
     ]
    }
   ],
   "source": [
    "cap = cv2.VideoCapture(0)\n",
    "for j in range(0,number_of_classes):\n",
    "    if not os.path.exists(os.path.join(DATA_DIR,str(j))):\n",
    "        os.makedirs(os.path.join(DATA_DIR,str(j)))\n",
    "        \n",
    "    print('Collecting data for class{}'.format(j))\n",
    "    \n",
    "    done = False\n",
    "    while cap.isOpened():\n",
    "        position = (10,50)\n",
    "        ret, frame = cap.read()\n",
    "        cv2.putText(frame, f\"Collecting data for {labels_dict[j]} Ready? Press 'q'\", position, cv2.FONT_HERSHEY_SIMPLEX, 1, (209, 80, 0, 255), 3)\n",
    "        cv2.imshow('OpenCV-Feed', frame)\n",
    "        if cv2.waitKey(25) & 0xFF == ord('q'):\n",
    "            break\n",
    "            \n",
    "    counter = 0\n",
    "    while counter < dataset_size:\n",
    "        ret, frame = cap.read()\n",
    "        cv2.imshow('frame', frame)\n",
    "        cv2.waitKey(25)\n",
    "        cv2.imwrite(os.path.join(DATA_DIR, str(j), '{}.jpg'.format(counter)), frame)\n",
    "\n",
    "        counter+=1\n",
    "        \n",
    "cap.release()\n",
    "cv2.destroyAllWindows()"
   ]
  },
  {
   "cell_type": "code",
   "execution_count": 21,
   "id": "e2ac9ce6-a71d-461e-a650-c8e60ab9a128",
   "metadata": {},
   "outputs": [],
   "source": [
    "#close your camera\n",
    "#run this code if the recording tab closes but your device camera is still on \n",
    "cap.release()\n",
    "cv2.destroyAllWindows()"
   ]
  },
  {
   "cell_type": "code",
   "execution_count": null,
   "id": "58498e3e-cf22-461c-95aa-492cb1aaf891",
   "metadata": {},
   "outputs": [],
   "source": []
  }
 ],
 "metadata": {
  "kernelspec": {
   "display_name": "Python 3 (ipykernel)",
   "language": "python",
   "name": "python3"
  },
  "language_info": {
   "codemirror_mode": {
    "name": "ipython",
    "version": 3
   },
   "file_extension": ".py",
   "mimetype": "text/x-python",
   "name": "python",
   "nbconvert_exporter": "python",
   "pygments_lexer": "ipython3",
   "version": "3.11.4"
  }
 },
 "nbformat": 4,
 "nbformat_minor": 5
}
